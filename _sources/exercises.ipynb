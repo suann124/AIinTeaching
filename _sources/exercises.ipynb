{
 "cells": [
  {
   "cell_type": "markdown",
   "id": "48fb5920",
   "metadata": {},
   "source": [
    "(exercises)=\n",
    "# Exercises\n",
    "\n",
    " 1. **First‑order plant.** Using `simulate_pid_first_order`, compare responses for:\n",
    "    - (a) $K_p=0.8, K_i=0, K_d=0$\n",
    "    - (b) $K_p=1.0, K_i=0.2, K_d=0$\n",
    "    - (c) $K_p=1.0, K_i=0.2, K_d=0.05$ with $\\tau_d=0.02$\n",
    "    Measure rise time, overshoot, and settling time."
   ]
  },
  {
   "cell_type": "code",
   "execution_count": null,
   "id": "c28169de",
   "metadata": {},
   "outputs": [],
   "source": [
    "# Exercise 1: First-order plant comparison\n",
    "# Copy the PID functions from the main lecture, then experiment with different gains!\n",
    "\n",
    "import numpy as np\n",
    "import matplotlib.pyplot as plt\n",
    "\n",
    "# TODO: Copy the pid_discrete and simulate_pid_first_order functions from the main lecture\n",
    "# TODO: Test the three configurations and compare their performance\n",
    "# TODO: Calculate rise time, overshoot, and settling time for each\n"
   ]
  },
  {
   "cell_type": "markdown",
   "id": "06272087",
   "metadata": {},
   "source": [
    " 2. **Windup experiment.** Set $u_{\\max}=0.5$ and step to 2.0. Compare behavior with and without anti‑windup\n",
    "    (set `Taw=1e9` to effectively disable back‑calculation). Explain the difference."
   ]
  },
  {
   "cell_type": "code",
   "execution_count": null,
   "id": "a86a4aef",
   "metadata": {},
   "outputs": [],
   "source": [
    "# Exercise 2: Windup experiment\n",
    "# Experiment with saturated control and anti-windup\n",
    "\n",
    "import numpy as np\n",
    "import matplotlib.pyplot as plt\n",
    "\n",
    "# TODO: Set up a simulation with umax=0.5 and reference=2.0\n",
    "# TODO: Compare two cases: with anti-windup (Taw=0.1) and without (Taw=1e9)\n",
    "# TODO: Plot both responses and control signals\n",
    "# TODO: Explain why anti-windup helps\n"
   ]
  },
  {
   "cell_type": "markdown",
   "id": "1a295011",
   "metadata": {},
   "source": [
    " 3. **Load disturbance.** At $t=2$s add a disturbance $d$ to the plant, e.g., $x_{k+1}=x_k+\\Delta t(a(u-x)+0.5)$.\n",
    "    Retune $K_i$ so steady‑state error is minimized without oscillation."
   ]
  },
  {
   "cell_type": "code",
   "execution_count": null,
   "id": "40ee35eb",
   "metadata": {},
   "outputs": [],
   "source": [
    "# Exercise 3: Load disturbance rejection\n",
    "# Experiment with different Ki values for disturbance rejection\n",
    "\n",
    "import numpy as np\n",
    "import matplotlib.pyplot as plt\n",
    "\n",
    "# TODO: Modify the plant simulation to add a disturbance at t=2s\n",
    "# TODO: Test different Ki values and see how they affect steady-state error\n",
    "# TODO: Find the best Ki that minimizes error without causing oscillations\n"
   ]
  },
  {
   "cell_type": "markdown",
   "id": "9f89d0af",
   "metadata": {},
   "source": [
    " 4. **Ziegler–Nichols.** Find $K_u,P_u$ by increasing $K_p$ with $K_i=K_d=0$ until sustained oscillations appear.\n",
    "    Use the Z–N table to propose PID gains and compare to your manual‑tuned set."
   ]
  },
  {
   "cell_type": "code",
   "execution_count": null,
   "id": "4a5c0d40",
   "metadata": {},
   "outputs": [],
   "source": [
    "# Exercise 4: Ziegler-Nichols auto-tuning\n",
    "# Find the ultimate gain and apply Z-N tuning rules\n",
    "\n",
    "import numpy as np\n",
    "import matplotlib.pyplot as plt\n",
    "\n",
    "# TODO: Gradually increase Kp (with Ki=Kd=0) until you get sustained oscillations\n",
    "# TODO: Measure the ultimate gain Ku and period Pu\n",
    "# TODO: Apply Ziegler-Nichols tuning rules:\n",
    "#   P:   Kp = 0.5*Ku\n",
    "#   PI:  Kp = 0.45*Ku, Ki = 1.2*Kp/Pu  \n",
    "#   PID: Kp = 0.6*Ku,  Ki = 2*Kp/Pu, Kd = Kp*Pu/8\n",
    "# TODO: Compare with your manual tuning\n"
   ]
  },
  {
   "cell_type": "markdown",
   "id": "24fadb6b",
   "metadata": {},
   "source": [
    " 5. **Derivative filtering.** Sweep $\\tau_d\\in\\{0, 0.005, 0.02, 0.1\\}$ while adding measurement noise to $y$.\n",
    "    Quantify the noise in $u$ (e.g., standard deviation) and discuss the trade‑off."
   ]
  },
  {
   "cell_type": "code",
   "execution_count": null,
   "id": "9dafd5fe",
   "metadata": {},
   "outputs": [],
   "source": [
    "# Exercise 5: Derivative filtering vs noise\n",
    "# Explore the trade-off between filtering and noise amplification\n",
    "\n",
    "import numpy as np\n",
    "import matplotlib.pyplot as plt\n",
    "\n",
    "# TODO: Add measurement noise to your simulation\n",
    "# TODO: Test different tau_d values: [0, 0.005, 0.02, 0.1]\n",
    "# TODO: Measure control signal noise (standard deviation) for each case\n",
    "# TODO: Plot the trade-off: more filtering = less noise, but slower D-action\n",
    "# TODO: Which tau_d gives the best compromise?\n"
   ]
  }
 ],
 "metadata": {
  "jupytext": {
   "formats": "md:myst",
   "text_representation": {
    "extension": ".md",
    "format_name": "myst",
    "format_version": 0.13,
    "jupytext_version": "1.16.1"
   }
  },
  "kernelspec": {
   "display_name": "Python 3",
   "language": "python",
   "name": "python3"
  },
  "source_map": [
   13,
   24,
   35,
   40,
   52,
   57,
   68,
   73,
   88,
   93
  ]
 },
 "nbformat": 4,
 "nbformat_minor": 5
}